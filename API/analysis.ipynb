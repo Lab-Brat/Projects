{
 "metadata": {
  "language_info": {
   "codemirror_mode": {
    "name": "ipython",
    "version": 3
   },
   "file_extension": ".py",
   "mimetype": "text/x-python",
   "name": "python",
   "nbconvert_exporter": "python",
   "pygments_lexer": "ipython3",
   "version": "3.9.1-final"
  },
  "orig_nbformat": 2,
  "kernelspec": {
   "name": "python3",
   "display_name": "Python 3",
   "language": "python"
  }
 },
 "nbformat": 4,
 "nbformat_minor": 2,
 "cells": [
  {
   "cell_type": "code",
   "execution_count": 45,
   "metadata": {},
   "outputs": [],
   "source": [
    "import time\n",
    "import pandas as pd"
   ]
  },
  {
   "cell_type": "code",
   "execution_count": 47,
   "metadata": {},
   "outputs": [
    {
     "output_type": "stream",
     "name": "stdout",
     "text": [
      "To create 600 sized database, it took 160.51911878585815\n"
     ]
    }
   ],
   "source": [
    "# importing data\n",
    "path = r'C:\\Users\\OXXO\\Downloads\\recommends.csv'\n",
    "df = pd.read_csv(path, header=None, chunksize=100000, iterator=True)\n",
    "\n",
    "start = time.time()\n",
    "\n",
    "all_data = []\n",
    "for chunk in df:\n",
    "    all_data.append(chunk)\n",
    "\n",
    "end = time.time()\n",
    "print(\"To create {} sized database, it took {}\".format(\\\n",
    "                                              len(all_data), end-start))"
   ]
  },
  {
   "cell_type": "code",
   "execution_count": null,
   "metadata": {},
   "outputs": [],
   "source": []
  },
  {
   "cell_type": "code",
   "execution_count": 61,
   "metadata": {},
   "outputs": [
    {
     "output_type": "execute_result",
     "data": {
      "text/plain": [
       "                   0           1    2\n",
       "35200000  wkiC9OCz42  ZgOGcoOD0k  0.7\n",
       "35200001  ePmVoBPWyl  PkybHPkyBH  0.6\n",
       "35200002  TIbGji8SWE  cayw4SZyD4  0.7\n",
       "35200003  zEeo9ZzEdh  HMbyfoasFT  0.7\n",
       "35200004  d2YkKeNXnt  a2BS6yV9eh  0.6\n",
       "...              ...         ...  ...\n",
       "35299995  CZbQJcPTYy  Ufzryl2miI  0.7\n",
       "35299996  yExyu1KOcr  yuAh8la2VE  0.5\n",
       "35299997  SGWFKCOoQb  IOaixhTAtK  0.5\n",
       "35299998  6xM6epidad  XFk9FplTFJ  0.6\n",
       "35299999  L2VB6MHqJZ  KEbBRVfeKC  1.0\n",
       "\n",
       "[100000 rows x 3 columns]"
      ],
      "text/html": "<div>\n<style scoped>\n    .dataframe tbody tr th:only-of-type {\n        vertical-align: middle;\n    }\n\n    .dataframe tbody tr th {\n        vertical-align: top;\n    }\n\n    .dataframe thead th {\n        text-align: right;\n    }\n</style>\n<table border=\"1\" class=\"dataframe\">\n  <thead>\n    <tr style=\"text-align: right;\">\n      <th></th>\n      <th>0</th>\n      <th>1</th>\n      <th>2</th>\n    </tr>\n  </thead>\n  <tbody>\n    <tr>\n      <th>35200000</th>\n      <td>wkiC9OCz42</td>\n      <td>ZgOGcoOD0k</td>\n      <td>0.7</td>\n    </tr>\n    <tr>\n      <th>35200001</th>\n      <td>ePmVoBPWyl</td>\n      <td>PkybHPkyBH</td>\n      <td>0.6</td>\n    </tr>\n    <tr>\n      <th>35200002</th>\n      <td>TIbGji8SWE</td>\n      <td>cayw4SZyD4</td>\n      <td>0.7</td>\n    </tr>\n    <tr>\n      <th>35200003</th>\n      <td>zEeo9ZzEdh</td>\n      <td>HMbyfoasFT</td>\n      <td>0.7</td>\n    </tr>\n    <tr>\n      <th>35200004</th>\n      <td>d2YkKeNXnt</td>\n      <td>a2BS6yV9eh</td>\n      <td>0.6</td>\n    </tr>\n    <tr>\n      <th>...</th>\n      <td>...</td>\n      <td>...</td>\n      <td>...</td>\n    </tr>\n    <tr>\n      <th>35299995</th>\n      <td>CZbQJcPTYy</td>\n      <td>Ufzryl2miI</td>\n      <td>0.7</td>\n    </tr>\n    <tr>\n      <th>35299996</th>\n      <td>yExyu1KOcr</td>\n      <td>yuAh8la2VE</td>\n      <td>0.5</td>\n    </tr>\n    <tr>\n      <th>35299997</th>\n      <td>SGWFKCOoQb</td>\n      <td>IOaixhTAtK</td>\n      <td>0.5</td>\n    </tr>\n    <tr>\n      <th>35299998</th>\n      <td>6xM6epidad</td>\n      <td>XFk9FplTFJ</td>\n      <td>0.6</td>\n    </tr>\n    <tr>\n      <th>35299999</th>\n      <td>L2VB6MHqJZ</td>\n      <td>KEbBRVfeKC</td>\n      <td>1.0</td>\n    </tr>\n  </tbody>\n</table>\n<p>100000 rows × 3 columns</p>\n</div>"
     },
     "metadata": {},
     "execution_count": 61
    }
   ],
   "source": [
    "# one chunk of the data\n",
    "piece = all_data[352]\n",
    "piece"
   ]
  },
  {
   "cell_type": "code",
   "execution_count": null,
   "metadata": {},
   "outputs": [],
   "source": []
  },
  {
   "cell_type": "code",
   "execution_count": 108,
   "metadata": {},
   "outputs": [
    {
     "output_type": "execute_result",
     "data": {
      "text/plain": [
       "55"
      ]
     },
     "metadata": {},
     "execution_count": 108
    }
   ],
   "source": [
    "# findind indices of the key appearing in recommends\n",
    "key = piece[0][35200000] # 'wkiC9OCz42'\n",
    "recoms = []\n",
    "\n",
    "for chunk in all_data:\n",
    "    for i, j in enumerate(chunk[1]):\n",
    "        if j == key:\n",
    "            recoms.append(chunk.iloc[i].name)\n",
    "\n",
    "len(recoms)"
   ]
  },
  {
   "cell_type": "code",
   "execution_count": null,
   "metadata": {},
   "outputs": [],
   "source": []
  }
 ]
}