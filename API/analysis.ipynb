{
 "metadata": {
  "language_info": {
   "codemirror_mode": {
    "name": "ipython",
    "version": 3
   },
   "file_extension": ".py",
   "mimetype": "text/x-python",
   "name": "python",
   "nbconvert_exporter": "python",
   "pygments_lexer": "ipython3",
   "version": "3.9.1-final"
  },
  "orig_nbformat": 2,
  "kernelspec": {
   "name": "python3",
   "display_name": "Python 3",
   "language": "python"
  }
 },
 "nbformat": 4,
 "nbformat_minor": 2,
 "cells": [
  {
   "cell_type": "code",
   "execution_count": 1,
   "metadata": {},
   "outputs": [],
   "source": [
    "import time\n",
    "import random\n",
    "import pandas as pd"
   ]
  },
  {
   "cell_type": "code",
   "execution_count": null,
   "metadata": {},
   "outputs": [],
   "source": []
  },
  {
   "cell_type": "code",
   "execution_count": 2,
   "metadata": {},
   "outputs": [
    {
     "output_type": "stream",
     "name": "stdout",
     "text": [
      "To create a database with 600 entries, it took 54.12 seconds\n"
     ]
    }
   ],
   "source": [
    "# importing data\n",
    "path = r'C:\\Users\\OXXO\\Downloads\\recommends.csv'\n",
    "chunk_size = 100000\n",
    "df = pd.read_csv(path, header=None, chunksize=chunk_size, iterator=True)\n",
    "\n",
    "start = time.time()\n",
    "all_data = []\n",
    "for chunk in df:\n",
    "    all_data.append(chunk)\n",
    "end = time.time()\n",
    "\n",
    "print(\"To create a database with {0} entries, it took {1:.2f} seconds\".\\\n",
    "                                            format(len(all_data), end-start))"
   ]
  },
  {
   "cell_type": "code",
   "execution_count": null,
   "metadata": {},
   "outputs": [],
   "source": []
  },
  {
   "cell_type": "code",
   "execution_count": 3,
   "metadata": {},
   "outputs": [
    {
     "output_type": "stream",
     "name": "stdout",
     "text": [
      "The list of recommendations for WOaFaund0j has 48 entries\n"
     ]
    }
   ],
   "source": [
    "rand_int1 = random.randint(0, len(all_data))\n",
    "rand_int2 = random.randint(0, chunk_size)\n",
    "\n",
    "piece = all_data[rand_int1] # one chunk of the data\n",
    "key = list(piece.iloc[rand_int2])[0] # single element from the chunk\n",
    "recoms_ind = 0\n",
    "recoms = []\n",
    "\n",
    "for chunk in all_data:\n",
    "    for i, j in enumerate(chunk[1]):\n",
    "        if j == key:\n",
    "            recoms_ind = chunk.iloc[i].name\n",
    "            recoms.append(list(chunk.loc[recoms_ind]))\n",
    "            recoms_ind = 0\n",
    "    \n",
    "\n",
    "print(\"The list of recommendations for {} has {} entries\".format(key,len(recoms)))"
   ]
  },
  {
   "cell_type": "code",
   "execution_count": null,
   "metadata": {},
   "outputs": [],
   "source": []
  }
 ]
}