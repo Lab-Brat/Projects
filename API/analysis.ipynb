{
 "metadata": {
  "language_info": {
   "codemirror_mode": {
    "name": "ipython",
    "version": 3
   },
   "file_extension": ".py",
   "mimetype": "text/x-python",
   "name": "python",
   "nbconvert_exporter": "python",
   "pygments_lexer": "ipython3",
   "version": "3.9.1-final"
  },
  "orig_nbformat": 2,
  "kernelspec": {
   "name": "python3",
   "display_name": "Python 3",
   "language": "python"
  }
 },
 "nbformat": 4,
 "nbformat_minor": 2,
 "cells": [
  {
   "cell_type": "code",
   "execution_count": 6,
   "metadata": {},
   "outputs": [],
   "source": [
    "import time\n",
    "import random\n",
    "import pprint\n",
    "import pandas as pd"
   ]
  },
  {
   "cell_type": "code",
   "execution_count": null,
   "metadata": {},
   "outputs": [],
   "source": []
  },
  {
   "cell_type": "code",
   "execution_count": 2,
   "metadata": {},
   "outputs": [
    {
     "output_type": "stream",
     "name": "stdout",
     "text": [
      "To create a database with 600 entries, it took 54.12 seconds\n"
     ]
    }
   ],
   "source": [
    "# importing data\n",
    "path = r'C:\\Users\\OXXO\\Downloads\\recommends.csv'\n",
    "chunk_size = 100000\n",
    "df = pd.read_csv(path, header=None, chunksize=chunk_size, iterator=True)\n",
    "\n",
    "start = time.time()\n",
    "all_data = []\n",
    "for chunk in df:\n",
    "    all_data.append(chunk)\n",
    "end = time.time()\n",
    "\n",
    "print(\"To create a database with {0} entries, it took {1:.2f} seconds\".\\\n",
    "                                            format(len(all_data), end-start))"
   ]
  },
  {
   "cell_type": "code",
   "execution_count": null,
   "metadata": {},
   "outputs": [],
   "source": []
  },
  {
   "cell_type": "code",
   "execution_count": 35,
   "metadata": {},
   "outputs": [],
   "source": [
    "def find_sku(sku, threshold=None):\n",
    "    recoms_ind = 0\n",
    "    recoms = []\n",
    "\n",
    "    # create a list with all recommendations of sku\n",
    "    for chunk in all_data:\n",
    "        for i, j in enumerate(chunk[1]):\n",
    "            if j == sku:\n",
    "                recoms_ind = chunk.iloc[i].name\n",
    "                recoms.append(list(chunk.loc[recoms_ind]))\n",
    "                recoms_ind = 0    \n",
    "    \n",
    "    # if threshold is set, discard all invalid recommendations\n",
    "    if threshold != None:\n",
    "        count = len(recoms)\n",
    "        while(count != 0):\n",
    "            count -= 1\n",
    "            if recoms[count][2] <= threshold:\n",
    "                recoms.remove(recoms[count])\n",
    "\n",
    "    return recoms"
   ]
  },
  {
   "cell_type": "code",
   "execution_count": 36,
   "metadata": {},
   "outputs": [
    {
     "output_type": "stream",
     "name": "stdout",
     "text": [
      "[['YW8O3a0Bqg', 'WOaFaund0j', 0.9],\n ['nT9SqPjzBN', 'WOaFaund0j', 0.8],\n ['RkDwF0gxi4', 'WOaFaund0j', 1.1],\n ['jz4S4hUL6g', 'WOaFaund0j', 0.8],\n ['BsuS5ls0PE', 'WOaFaund0j', 0.8],\n ['0BVLL5Lzxr', 'WOaFaund0j', 1.1],\n ['5JgAOlF7eW', 'WOaFaund0j', 0.8],\n ['H1Rj9oXOns', 'WOaFaund0j', 0.8],\n ['ADmSjfWPM0', 'WOaFaund0j', 0.9],\n ['tz7dEF9aqA', 'WOaFaund0j', 0.9],\n ['848N1UmQXq', 'WOaFaund0j', 0.8],\n ['LQGr6GA9Lk', 'WOaFaund0j', 0.9],\n ['CyiOL77zQ4', 'WOaFaund0j', 0.8],\n ['9sUzEh554m', 'WOaFaund0j', 0.8],\n ['ZedSp71wEj', 'WOaFaund0j', 0.8],\n ['IrdNHdQ6RB', 'WOaFaund0j', 0.9],\n ['1ZTiAoKuvr', 'WOaFaund0j', 1.0],\n ['p5ezVvwG06', 'WOaFaund0j', 0.8]]\n"
     ]
    }
   ],
   "source": [
    "sku = 'WOaFaund0j'\n",
    "pprint.pprint(find_sku(sku, threshold=0.7))"
   ]
  },
  {
   "cell_type": "code",
   "execution_count": null,
   "metadata": {},
   "outputs": [],
   "source": []
  }
 ]
}