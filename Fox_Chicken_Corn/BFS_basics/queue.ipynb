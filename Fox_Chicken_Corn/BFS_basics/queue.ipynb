{
 "metadata": {
  "language_info": {
   "codemirror_mode": {
    "name": "ipython",
    "version": 3
   },
   "file_extension": ".py",
   "mimetype": "text/x-python",
   "name": "python",
   "nbconvert_exporter": "python",
   "pygments_lexer": "ipython3",
   "version": "3.6.6-final"
  },
  "orig_nbformat": 2,
  "kernelspec": {
   "name": "python3",
   "display_name": "Python 3.6.6 64-bit",
   "metadata": {
    "interpreter": {
     "hash": "ea1d30b81493ad4e83832c30fd2d1afdd89257e8ee88b0c08169d2ce4111f838"
    }
   }
  }
 },
 "nbformat": 4,
 "nbformat_minor": 2,
 "cells": [
  {
   "cell_type": "code",
   "execution_count": 1,
   "metadata": {},
   "outputs": [],
   "source": [
    "# https://www.guru99.com/python-queue-example.html\n",
    "\n",
    "import queue\n",
    "import random"
   ]
  },
  {
   "cell_type": "code",
   "execution_count": 2,
   "metadata": {},
   "outputs": [
    {
     "output_type": "execute_result",
     "data": {
      "text/plain": [
       "True"
      ]
     },
     "metadata": {},
     "execution_count": 2
    }
   ],
   "source": [
    "# create a FIFO queue wiht limit\n",
    "Q1 = queue.Queue(5)\n",
    "\n",
    "for i in range(5):\n",
    "    Q1.put(i)\n",
    "\n",
    "Q1.full()"
   ]
  },
  {
   "cell_type": "code",
   "execution_count": 3,
   "metadata": {},
   "outputs": [
    {
     "output_type": "stream",
     "name": "stdout",
     "text": [
      "Q1 is empty: False, length is 10\n\nvalue of Q(0) is: 53\nvalue of Q(1) is: 60\nvalue of Q(2) is: 17\nvalue of Q(3) is: 34\nvalue of Q(4) is: 44\nvalue of Q(5) is: 12\nvalue of Q(6) is: 38\nvalue of Q(7) is: 52\nvalue of Q(8) is: 65\nvalue of Q(9) is: 58\n\nQ1 is empty: True, length is 0\n"
     ]
    }
   ],
   "source": [
    "# Put and Extract data from FIFO queue\n",
    "Q1 = queue.Queue()\n",
    "\n",
    "for i in range(10):\n",
    "    Q1.put(random.randint(0, 66))\n",
    "\n",
    "print(\"Q1 is empty: {}, length is {}\\n\".format(Q1.empty(), Q1.qsize()))\n",
    "\n",
    "for i in range(Q1.qsize()):\n",
    "    if Q1.empty() == False:\n",
    "        print(\"value of Q({}) is: {}\".format(i, Q1.get(i)))\n",
    "\n",
    "print(\"\\nQ1 is empty: {}, length is {}\".format(Q1.empty(), Q1.qsize()))\n",
    "\n",
    "\n",
    "# while not Q1.empty():\n",
    "#     print(\"value of Q is: {}\".format(Q1.get()))"
   ]
  },
  {
   "cell_type": "code",
   "execution_count": null,
   "metadata": {},
   "outputs": [],
   "source": []
  }
 ]
}