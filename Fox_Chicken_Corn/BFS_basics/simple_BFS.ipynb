{
 "metadata": {
  "language_info": {
   "codemirror_mode": {
    "name": "ipython",
    "version": 3
   },
   "file_extension": ".py",
   "mimetype": "text/x-python",
   "name": "python",
   "nbconvert_exporter": "python",
   "pygments_lexer": "ipython3",
   "version": "3.8.3-final"
  },
  "orig_nbformat": 2,
  "kernelspec": {
   "name": "python3",
   "display_name": "Python 3"
  }
 },
 "nbformat": 4,
 "nbformat_minor": 2,
 "cells": [
  {
   "cell_type": "code",
   "execution_count": 2,
   "metadata": {},
   "outputs": [],
   "source": [
    "graph = {'0': ['1', '2', '4'],\n",
    "         '1': ['0','3', '4'],\n",
    "         '2': ['0', '5', '6'],\n",
    "         '3': ['1'],\n",
    "         '4': ['0', '1','3'],\n",
    "         '5': ['2'],\n",
    "         '6': ['2']}"
   ]
  },
  {
   "cell_type": "code",
   "execution_count": 18,
   "metadata": {},
   "outputs": [
    {
     "output_type": "stream",
     "name": "stdout",
     "text": [
      "Starting at:  ['2']\nPath is:  ['2', '0', '5', '6', '1', '4', '3']\n"
     ]
    }
   ],
   "source": [
    "def bfs(graph, initial):\n",
    "    \n",
    "    visited = []\n",
    "    queue = [initial]\n",
    "    print(\"Starting at: \", queue)\n",
    " \n",
    "    while queue:\n",
    "        node = queue.pop(0)\n",
    "\n",
    "        if node not in visited:\n",
    "            visited.append(node)\n",
    "            neighbours = graph[node]\n",
    " \n",
    "            for neighbour in neighbours:\n",
    "                queue.append(neighbour)\n",
    "\n",
    "    return visited\n",
    " \n",
    "print(\"Path is: \", bfs(graph,'2'))"
   ]
  },
  {
   "cell_type": "code",
   "execution_count": null,
   "metadata": {},
   "outputs": [],
   "source": []
  }
 ]
}