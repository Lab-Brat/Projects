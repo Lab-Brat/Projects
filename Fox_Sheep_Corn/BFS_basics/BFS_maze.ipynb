{
 "metadata": {
  "language_info": {
   "codemirror_mode": {
    "name": "ipython",
    "version": 3
   },
   "file_extension": ".py",
   "mimetype": "text/x-python",
   "name": "python",
   "nbconvert_exporter": "python",
   "pygments_lexer": "ipython3",
   "version": "3.8.3-final"
  },
  "orig_nbformat": 2,
  "kernelspec": {
   "name": "python3",
   "display_name": "Python 3"
  }
 },
 "nbformat": 4,
 "nbformat_minor": 2,
 "cells": [
  {
   "cell_type": "code",
   "execution_count": 1,
   "metadata": {},
   "outputs": [],
   "source": [
    "def printMaze(maze, path=\"\"):\n",
    "    for x, pos in enumerate(maze[0]):\n",
    "        if pos == \"O\":\n",
    "            start = x\n",
    "\n",
    "    i = start\n",
    "    j = 0\n",
    "    pos = set()\n",
    "    for move in path:\n",
    "        if move == \"L\":\n",
    "            i -= 1\n",
    "\n",
    "        elif move == \"R\":\n",
    "            i += 1\n",
    "\n",
    "        elif move == \"U\":\n",
    "            j -= 1\n",
    "\n",
    "        elif move == \"D\":\n",
    "            j += 1\n",
    "        pos.add((j, i))\n",
    "    \n",
    "    for j, row in enumerate(maze):\n",
    "        for i, col in enumerate(row):\n",
    "            if (j, i) in pos:\n",
    "                print(\"+ \", end=\"\")\n",
    "            else:\n",
    "                print(col + \" \", end=\"\")\n",
    "        print()"
   ]
  },
  {
   "cell_type": "code",
   "execution_count": null,
   "metadata": {},
   "outputs": [],
   "source": []
  },
  {
   "cell_type": "code",
   "execution_count": 2,
   "metadata": {},
   "outputs": [],
   "source": [
    "def valid(maze, moves):\n",
    "    for x, pos in enumerate(maze[0]):\n",
    "        if pos == \"O\":\n",
    "            start = x\n",
    "\n",
    "    i = start\n",
    "    j = 0\n",
    "    \n",
    "    for move in moves:\n",
    "        if move == \"L\": i -= 1\n",
    "        elif move == \"R\": i += 1\n",
    "        elif move == \"U\": j -= 1\n",
    "        elif move == \"D\": j += 1\n",
    "\n",
    "        if not(0 <= i < len(maze[0]) and 0 <= j < len(maze)):\n",
    "            return False\n",
    "        elif (maze[j][i] == \"#\"):\n",
    "            return False\n",
    "\n",
    "    return True"
   ]
  },
  {
   "cell_type": "code",
   "execution_count": null,
   "metadata": {},
   "outputs": [],
   "source": []
  },
  {
   "cell_type": "code",
   "execution_count": 3,
   "metadata": {},
   "outputs": [],
   "source": [
    "# find X (the end of maze)\n",
    "def findEnd(maze, moves):\n",
    "    for x, pos in enumerate(maze[0]): #in first row of maze\n",
    "        if pos == \"O\":\n",
    "            start = x #set x as index of O(start)\n",
    "\n",
    "    i = start # 5, in our case\n",
    "    j = 0\n",
    "\n",
    "    for move in moves:\n",
    "        if move == \"L\": i -= 1\n",
    "        elif move == \"R\": i += 1\n",
    "        elif move == \"U\": j -= 1\n",
    "        elif move == \"D\": j += 1\n",
    "\n",
    "    if maze[j][i] == \"X\":\n",
    "        print(\"Found: \" + moves)\n",
    "        printMaze(maze, moves)\n",
    "        return True\n",
    "\n",
    "    return False"
   ]
  },
  {
   "cell_type": "code",
   "execution_count": null,
   "metadata": {},
   "outputs": [],
   "source": []
  },
  {
   "cell_type": "code",
   "execution_count": 4,
   "metadata": {},
   "outputs": [],
   "source": [
    "#-------------------FINDING PATH IN MAZE------------------#"
   ]
  },
  {
   "cell_type": "code",
   "execution_count": 5,
   "metadata": {},
   "outputs": [],
   "source": [
    "import queue"
   ]
  },
  {
   "cell_type": "code",
   "execution_count": 15,
   "metadata": {},
   "outputs": [
    {
     "output_type": "stream",
     "name": "stdout",
     "text": [
      "['#', '#', '#', 'O', '#']\n['#', ' ', ' ', ' ', '#']\n['#', ' ', '#', ' ', '#']\n['#', ' ', ' ', ' ', '#']\n['#', 'X', '#', '#', '#']\n"
     ]
    }
   ],
   "source": [
    "def createMaze(simple):\n",
    "    if simple==True:\n",
    "        maze = []\n",
    "        maze.append([\"#\", \"#\", \"#\", \"O\", \"#\"])\n",
    "        maze.append([\"#\", \" \", \" \", \" \", \"#\"])\n",
    "        maze.append([\"#\", \" \", \"#\", \" \", \"#\"])\n",
    "        maze.append([\"#\", \" \", \" \", \" \", \"#\"])\n",
    "        maze.append([\"#\", \"X\", \"#\", \"#\", \"#\"])\n",
    "\n",
    "        return maze\n",
    "\n",
    "\n",
    "    else:\n",
    "        maze = []\n",
    "        maze.append([\"#\",\"#\", \"#\", \"#\", \"#\", \"O\", \"#\", \"#\", \"#\", \"#\"])\n",
    "        maze.append([\"#\",\" \", \" \", \" \", \"#\", \" \", \" \", \" \", \" \", \"#\"])\n",
    "        maze.append([\"#\",\" \", \"#\", \"#\", \"#\", \"#\", \"#\", \"#\", \" \", \"#\"])\n",
    "        maze.append([\"#\",\" \", \"#\", \" \", \" \", \" \", \" \", \" \", \" \", \"#\"])\n",
    "        maze.append([\"#\",\" \", \"#\", \" \", \"#\", \"#\", \"#\", \"#\", \"#\", \"#\"])\n",
    "        maze.append([\"#\",\" \", \"#\", \" \", \" \", \" \", \" \", \" \", \" \", \"#\"])\n",
    "        maze.append([\"#\",\" \", \"#\", \"#\", \"#\", \" \", \"#\", \"#\", \" \", \"#\"])\n",
    "        maze.append([\"#\",\" \", \"#\", \" \", \" \", \" \", \" \", \" \", \" \", \"#\"])\n",
    "        maze.append([\"#\",\" \", \"#\", \"#\", \"#\", \"#\", \" \", \"#\", \"#\", \"#\"])\n",
    "        maze.append([\"#\",\" \", \" \", \" \", \" \", \" \", \" \", \" \", \" \", \"#\"])\n",
    "        maze.append([\"#\",\"#\", \"#\", \"#\", \"#\", \"#\", \"X\", \"#\", \"#\", \"#\"])\n",
    "\n",
    "        return maze\n",
    "\n",
    "for i in createMaze(simple=True):\n",
    "    print(i)"
   ]
  },
  {
   "cell_type": "code",
   "execution_count": null,
   "metadata": {},
   "outputs": [],
   "source": []
  },
  {
   "cell_type": "code",
   "execution_count": 17,
   "metadata": {
    "tags": []
   },
   "outputs": [
    {
     "output_type": "stream",
     "name": "stdout",
     "text": [
      "Found: DLLDDD\n# # # O # \n# + + + # \n# + #   # \n# +     # \n# + # # # \n"
     ]
    }
   ],
   "source": [
    "# INITIALIZING\n",
    "nums = queue.Queue()\n",
    "nums.put(\"\") \n",
    "add = \"\" #first path that we have\n",
    "add_save = []\n",
    "maze  = createMaze(simple=True)\n",
    "\n",
    "\n",
    "# BREADTH FIRST SEARCH ALGORITHM\n",
    "while not findEnd(maze, add): #while end not found (not False)\n",
    "    add = nums.get() \n",
    "    add_save.append(add)\n",
    "    #print(add)\n",
    "    for j in [\"L\", \"R\", \"U\", \"D\"]:\n",
    "        put = add + j\n",
    "        if valid(maze, put):\n",
    "            nums.put(put)\n"
   ]
  },
  {
   "cell_type": "code",
   "execution_count": null,
   "metadata": {},
   "outputs": [],
   "source": []
  },
  {
   "cell_type": "code",
   "execution_count": 37,
   "metadata": {},
   "outputs": [
    {
     "output_type": "stream",
     "name": "stdout",
     "text": [
      "['', 'D', 'DL', 'DU', 'DD']   \n['DLL', 'DLR', 'DUD', 'DDU', 'DDD']   \n['DLLR', 'DLLD', 'DLRL', 'DLRU', 'DLRD']   \n['DUDL', 'DUDU', 'DUDD', 'DDUL', 'DDUU']   \n['DDUD', 'DDDL', 'DDDU', 'DLLRL', 'DLLRR']   \n['DLLDU', 'DLLDD', 'DLRLL', 'DLRLR', 'DLRUD']   \n['DLRDU', 'DLRDD', 'DUDLL', 'DUDLR', 'DUDUD']   \n['DUDDU', 'DUDDD', 'DDULL', 'DDULR', 'DDUUD']   \n['DDUDU', 'DDUDD', 'DDDLL', 'DDDLR', 'DDDUU']   \n['DDDUD', 'DLLRLR', 'DLLRLD', 'DLLRRL', 'DLLRRU']   \n['DLLRRD', 'DLLDUR', 'DLLDUD', 'DLLDDR', 'DLLDDU']   \n['DLLDDD']   \n"
     ]
    }
   ],
   "source": [
    "for i in range(len(add_save)//5+1):\n",
    "    print(add_save[i*5: (i+1)*5], \"  \")"
   ]
  },
  {
   "cell_type": "code",
   "execution_count": null,
   "metadata": {},
   "outputs": [],
   "source": []
  }
 ]
}