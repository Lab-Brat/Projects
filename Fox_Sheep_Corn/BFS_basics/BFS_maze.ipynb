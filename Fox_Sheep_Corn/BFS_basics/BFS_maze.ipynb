{
 "metadata": {
  "language_info": {
   "codemirror_mode": {
    "name": "ipython",
    "version": 3
   },
   "file_extension": ".py",
   "mimetype": "text/x-python",
   "name": "python",
   "nbconvert_exporter": "python",
   "pygments_lexer": "ipython3",
   "version": "3.8.3-final"
  },
  "orig_nbformat": 2,
  "kernelspec": {
   "name": "python3",
   "display_name": "Python 3"
  }
 },
 "nbformat": 4,
 "nbformat_minor": 2,
 "cells": [
  {
   "cell_type": "code",
   "execution_count": 1,
   "metadata": {},
   "outputs": [],
   "source": [
    "def printMaze(maze, path=\"\"):\n",
    "    for x, pos in enumerate(maze[0]):\n",
    "        if pos == \"O\":\n",
    "            start = x\n",
    "\n",
    "    i = start\n",
    "    j = 0\n",
    "    pos = []\n",
    "\n",
    "    for move in path:\n",
    "        if move == \"L\": i -= 1\n",
    "        elif move == \"R\": i += 1\n",
    "        elif move == \"U\": j -= 1\n",
    "        elif move == \"D\": j += 1\n",
    "        pos.append((j, i))\n",
    "    \n",
    "    for j, row in enumerate(maze):\n",
    "        for i, col in enumerate(row):\n",
    "            if (j, i) in pos:\n",
    "                print(\". \", end=\"\")\n",
    "            else:\n",
    "                print(col + \" \", end=\"\")\n",
    "        print()"
   ]
  },
  {
   "cell_type": "code",
   "execution_count": null,
   "metadata": {},
   "outputs": [],
   "source": []
  },
  {
   "cell_type": "code",
   "execution_count": 2,
   "metadata": {},
   "outputs": [],
   "source": [
    "# Decide if the move if valid or not\n",
    "def valid(maze, moves):\n",
    "    for x, pos in enumerate(maze[0]):\n",
    "        if pos == \"O\":\n",
    "            start = x\n",
    "\n",
    "    i = start\n",
    "    j = 0\n",
    "    \n",
    "    #decide in which direction to move\n",
    "    for move in moves:\n",
    "        if move == \"L\": i -= 1\n",
    "        elif move == \"R\": i += 1\n",
    "        elif move == \"U\": j -= 1\n",
    "        elif move == \"D\": j += 1\n",
    "        \n",
    "        # if moves are out of maze bounds\n",
    "        if not(0 <= i < len(maze[0]) and 0 <= j < len(maze)):\n",
    "            return False\n",
    "        # if moves end in #\n",
    "        elif (maze[j][i] == \"#\"):\n",
    "            return False\n",
    "\n",
    "    return True"
   ]
  },
  {
   "cell_type": "code",
   "execution_count": null,
   "metadata": {},
   "outputs": [],
   "source": []
  },
  {
   "cell_type": "code",
   "execution_count": 3,
   "metadata": {},
   "outputs": [],
   "source": [
    "# find X (the end of maze)\n",
    "def findEnd(maze, moves):\n",
    "    for x, pos in enumerate(maze[0]): #in 0th row of maze\n",
    "        if pos == \"O\":\n",
    "            start = x #set x as index of O(start)\n",
    "\n",
    "    i = start # 5th column, in our case\n",
    "    j = 0     # 0th row\n",
    "\n",
    "    #decide in which direction to move\n",
    "    for move in moves:\n",
    "        if move == \"L\": i -= 1\n",
    "        elif move == \"R\": i += 1\n",
    "        elif move == \"U\": j -= 1\n",
    "        elif move == \"D\": j += 1\n",
    "\n",
    "    if maze[j][i] == \"X\": #if the exit point is found\n",
    "        print(\"Found: \" + moves)\n",
    "        printMaze(maze, moves) ##output the completed maze\n",
    "        return True\n",
    "\n",
    "    return False"
   ]
  },
  {
   "cell_type": "code",
   "execution_count": null,
   "metadata": {},
   "outputs": [],
   "source": []
  },
  {
   "cell_type": "code",
   "execution_count": 4,
   "metadata": {},
   "outputs": [],
   "source": [
    "#-------------------FINDING PATH IN MAZE------------------#"
   ]
  },
  {
   "cell_type": "code",
   "execution_count": 5,
   "metadata": {},
   "outputs": [],
   "source": [
    "import queue"
   ]
  },
  {
   "cell_type": "code",
   "execution_count": 6,
   "metadata": {},
   "outputs": [],
   "source": [
    "def createMaze(simple):\n",
    "    if simple==True:\n",
    "        maze = []\n",
    "        maze.append([\"#\", \"#\", \"#\", \"O\", \"#\"])\n",
    "        maze.append([\"#\", \" \", \" \", \" \", \"#\"])\n",
    "        maze.append([\"#\", \" \", \"#\", \" \", \"#\"])\n",
    "        maze.append([\"#\", \" \", \" \", \" \", \"#\"])\n",
    "        maze.append([\"#\", \"X\", \"#\", \"#\", \"#\"])\n",
    "\n",
    "        return maze\n",
    "\n",
    "\n",
    "    else:\n",
    "        maze = []\n",
    "        maze.append([\"#\",\"X\", \"#\", \"#\", \"#\", \"O\", \"#\", \"#\", \"#\", \"#\"])\n",
    "        maze.append([\"#\",\" \", \" \", \" \", \"#\", \" \", \" \", \" \", \" \", \"#\"])\n",
    "        maze.append([\"#\",\" \", \"#\", \"#\", \"#\", \"#\", \"#\", \"#\", \" \", \"#\"])\n",
    "        maze.append([\"#\",\" \", \"#\", \" \", \" \", \" \", \" \", \" \", \" \", \"#\"])\n",
    "        maze.append([\"#\",\" \", \"#\", \" \", \"#\", \"#\", \"#\", \"#\", \"#\", \"#\"])\n",
    "        maze.append([\"#\",\" \", \"#\", \" \", \" \", \" \", \" \", \" \", \" \", \"#\"])\n",
    "        maze.append([\"#\",\" \", \"#\", \"#\", \"#\", \"#\", \"#\", \"#\", \" \", \"#\"])\n",
    "        maze.append([\"#\",\" \", \"#\", \" \", \" \", \" \", \" \", \" \", \" \", \"#\"])\n",
    "        maze.append([\"#\",\" \", \"#\", \"#\", \"#\", \"#\", \" \", \"#\", \"#\", \"#\"])\n",
    "        maze.append([\"#\",\" \", \" \", \" \", \" \", \" \", \" \", \" \", \" \", \"#\"])\n",
    "        maze.append([\"#\",\"#\", \"#\", \"#\", \"#\", \"#\", \"#\", \"#\", \"#\", \"#\"])\n",
    "\n",
    "        return maze\n",
    "\n",
    "# for i in createMaze(simple=False):\n",
    "#     print(i)"
   ]
  },
  {
   "cell_type": "code",
   "execution_count": null,
   "metadata": {},
   "outputs": [],
   "source": []
  },
  {
   "cell_type": "code",
   "execution_count": 9,
   "metadata": {
    "tags": []
   },
   "outputs": [
    {
     "output_type": "stream",
     "name": "stdout",
     "text": [
      "Found: DRRRDDLLLLLDDRRRRRDDLLDDLLLLLUUUUUUUUU\n# . # # # O # # # # \n# .     # . . . . # \n# . # # # # # # . # \n# . # . . . . . . # \n# . # . # # # # # # \n# . # . . . . . . # \n# . # # # # # # . # \n# . #       . . . # \n# . # # # # . # # # \n# . . . . . .     # \n# # # # # # # # # # \n"
     ]
    }
   ],
   "source": [
    "# INITIALIZING\n",
    "nums = queue.Queue()\n",
    "nums.put(\"\") \n",
    "path = \"\" #first path that we have\n",
    "path_save = []\n",
    "maze  = createMaze(simple=False)\n",
    "\n",
    "\n",
    "# BREADTH FIRST SEARCH ALGORITHM\n",
    "while not findEnd(maze, path): ##while end not found (not False)\n",
    "    path = nums.get() \n",
    "    path_save.append(path) #record path finding evolution\n",
    "    \n",
    "    for j in [\"L\", \"R\", \"U\", \"D\"]:\n",
    "        put = path + j #add all directions\n",
    "\n",
    "        if valid(maze, put): ##check if the direction is valid\n",
    "            if len(put) < 3: \n",
    "                nums.put(put)\n",
    "            else: #avoid going backwards\n",
    "                if put[-1] == \"L\" and put[-2] != \"R\" \\\n",
    "                or put[-1] == \"R\" and put[-2] != \"L\" \\\n",
    "                or put[-1] == \"U\" and put[-2] != \"D\" \\\n",
    "                or put[-1] == \"D\" and put[-2] != \"U\": nums.put(put)\n"
   ]
  },
  {
   "cell_type": "code",
   "execution_count": null,
   "metadata": {},
   "outputs": [],
   "source": []
  },
  {
   "cell_type": "code",
   "execution_count": 10,
   "metadata": {
    "tags": []
   },
   "outputs": [
    {
     "output_type": "stream",
     "name": "stdout",
     "text": [
      "['', 'D', 'DR', 'DU', 'DRR']   \n['DRRR', 'DRRRD', 'DRRRDD', 'DRRRDDL', 'DRRRDDLL']   \n['DRRRDDLLL', 'DRRRDDLLLL', 'DRRRDDLLLLL', 'DRRRDDLLLLLD', 'DRRRDDLLLLLDD']   \n['DRRRDDLLLLLDDR', 'DRRRDDLLLLLDDRR', 'DRRRDDLLLLLDDRRR', 'DRRRDDLLLLLDDRRRR', 'DRRRDDLLLLLDDRRRRR']   \n['DRRRDDLLLLLDDRRRRRD', 'DRRRDDLLLLLDDRRRRRDD', 'DRRRDDLLLLLDDRRRRRDDL', 'DRRRDDLLLLLDDRRRRRDDLL', 'DRRRDDLLLLLDDRRRRRDDLLL']   \n['DRRRDDLLLLLDDRRRRRDDLLD', 'DRRRDDLLLLLDDRRRRRDDLLLL', 'DRRRDDLLLLLDDRRRRRDDLLDD', 'DRRRDDLLLLLDDRRRRRDDLLLLL', 'DRRRDDLLLLLDDRRRRRDDLLDDL']   \n['DRRRDDLLLLLDDRRRRRDDLLDDR', 'DRRRDDLLLLLDDRRRRRDDLLDDLL', 'DRRRDDLLLLLDDRRRRRDDLLDDRR', 'DRRRDDLLLLLDDRRRRRDDLLDDLLL', 'DRRRDDLLLLLDDRRRRRDDLLDDLLLL']   \n['DRRRDDLLLLLDDRRRRRDDLLDDLLLLL', 'DRRRDDLLLLLDDRRRRRDDLLDDLLLLLU', 'DRRRDDLLLLLDDRRRRRDDLLDDLLLLLUU', 'DRRRDDLLLLLDDRRRRRDDLLDDLLLLLUUU', 'DRRRDDLLLLLDDRRRRRDDLLDDLLLLLUUUU']   \n['DRRRDDLLLLLDDRRRRRDDLLDDLLLLLUUUUU', 'DRRRDDLLLLLDDRRRRRDDLLDDLLLLLUUUUUU', 'DRRRDDLLLLLDDRRRRRDDLLDDLLLLLUUUUUUU', 'DRRRDDLLLLLDDRRRRRDDLLDDLLLLLUUUUUUUU', 'DRRRDDLLLLLDDRRRRRDDLLDDLLLLLUUUUUUUUR']   \n['DRRRDDLLLLLDDRRRRRDDLLDDLLLLLUUUUUUUUU']   \n"
     ]
    }
   ],
   "source": [
    "for i in range(len(path_save)//5+1):\n",
    "    print(path_save[i*5: (i+1)*5], \"  \")"
   ]
  },
  {
   "cell_type": "code",
   "execution_count": null,
   "metadata": {},
   "outputs": [],
   "source": []
  }
 ]
}