{
 "cells": [
  {
   "cell_type": "code",
   "execution_count": 46,
   "metadata": {},
   "outputs": [],
   "source": [
    "from PIL import Image, ImageFilter, ImageStat, ImageDraw\n",
    "import numpy as np"
   ]
  },
  {
   "cell_type": "code",
   "execution_count": null,
   "metadata": {},
   "outputs": [],
   "source": []
  },
  {
   "cell_type": "code",
   "execution_count": 47,
   "metadata": {},
   "outputs": [],
   "source": [
    "def getBlockCornersSequentially(image, blockSide):\n",
    "    # returns list of tuples (top left coords, bottom right coords) of the blocks made\n",
    "    h = 0\n",
    "    w = 0\n",
    "    corners = []  # list of 2tuple-tuples ((topleft), (bottomright)) -> ((w1, h1), (w2, h2))\n",
    "    while h < image.height:\n",
    "        w = 0\n",
    "        while w < image.width:\n",
    "            w2 = w + blockSide if w + blockSide <= image.width-1 else image.width-1\n",
    "            h2 = h + blockSide if h + blockSide <= image.height-1 else image.height-1\n",
    "            corners.append(((w, h), (w2, h2)))\n",
    "            w += blockSide\n",
    "        h += blockSide\n",
    "    return corners"
   ]
  },
  {
   "cell_type": "code",
   "execution_count": null,
   "metadata": {},
   "outputs": [],
   "source": []
  },
  {
   "cell_type": "code",
   "execution_count": null,
   "metadata": {},
   "outputs": [],
   "source": []
  },
  {
   "cell_type": "code",
   "execution_count": 48,
   "metadata": {},
   "outputs": [],
   "source": [
    "def getBlockColor(image, blockColorMethod=\"mean\"):\n",
    "    # default method is \"mean\". others: \"median\", \"thumbnail\"\n",
    "\n",
    "    pixelValue = None\n",
    "    if blockColorMethod == \"mean\":\n",
    "        avg = ImageStat.Stat(image).mean\n",
    "        pixelValue = tuple(map(lambda x: round(x), avg))\n",
    "    elif blockColorMethod == \"median\":\n",
    "        median = ImageStat.Stat(image).median\n",
    "        pixelValue = tuple(map(lambda x: round(x), median))\n",
    "    elif blockColorMethod == \"thumbnail\":  # this is basically the same as \"mean\"\n",
    "        image.thumbnail((1, 1))\n",
    "        pixelValue = image.getpixel((0, 0))\n",
    "    else:\n",
    "        raise ValueError(\"unknown block color method\")\n",
    "\n",
    "    return pixelValue"
   ]
  },
  {
   "cell_type": "code",
   "execution_count": null,
   "metadata": {},
   "outputs": [],
   "source": []
  },
  {
   "cell_type": "code",
   "execution_count": null,
   "metadata": {},
   "outputs": [],
   "source": []
  },
  {
   "cell_type": "code",
   "execution_count": 49,
   "metadata": {},
   "outputs": [],
   "source": [
    "def pixelize(image, blockSide, blockColorMethod=\"mean\", cornersMode=\"sequential\"):\n",
    "    # corners mode: \"sequential\" (getBlockCornersSequentially); \"diagonal\" (getBlockCornersDiagonals)\n",
    "\n",
    "    if cornersMode == \"sequential\":\n",
    "        return pixelizeSequentially(image, blockSide, blockColorMethod)\n",
    "    elif cornersMode == \"diagonal\":\n",
    "        return pixelizeDiagonal(image, blockSide, blockColorMethod)\n",
    "    else:\n",
    "        raise ValueError(\"unknown cornersMode \" + cornersMode)"
   ]
  },
  {
   "cell_type": "code",
   "execution_count": 50,
   "metadata": {},
   "outputs": [],
   "source": [
    "def pixelizeSequentially(image, blockSide, blockColorMethod=\"mean\"):\n",
    "    pixelized = Image.new(image.mode, (image.width, image.height))\n",
    "    drawImage = ImageDraw.Draw(pixelized)\n",
    "\n",
    "    corners = getBlockCornersSequentially(image, blockSide)\n",
    "    for corner in corners:\n",
    "        topleft, bottomright = corner\n",
    "        w1, h1 = topleft\n",
    "        w2, h2 = bottomright\n",
    "\n",
    "        if w1 - w2 == 0 or h1 - h2 == 0:\n",
    "            blockColor = image.getpixel((w1, h1))\n",
    "        else:\n",
    "            block = image.crop((w1, h1, w2, h2))\n",
    "            blockColor = getBlockColor(block, blockColorMethod=blockColorMethod)\n",
    "\n",
    "        drawImage.rectangle((w1, h1, w2, h2), blockColor)\n",
    "\n",
    "    return pixelized"
   ]
  },
  {
   "cell_type": "code",
   "execution_count": null,
   "metadata": {},
   "outputs": [],
   "source": []
  },
  {
   "cell_type": "code",
   "execution_count": null,
   "metadata": {},
   "outputs": [],
   "source": []
  },
  {
   "cell_type": "code",
   "execution_count": 54,
   "metadata": {},
   "outputs": [],
   "source": [
    "# Setting Up Parameters\n",
    "\n",
    "imageName = r\"C:\\Users\\kulik\\Documents\\Jupyters\\Pixelator\\sample.jpg\"  # path to image\n",
    "blockSideSize = 8  # 8-16 is a good blockSideSize; 1 gives back original image\n",
    "blockColorMethod = \"mean\"  # \"mean\", \"median\", or \"thumbnail\"\n",
    "cornersMode = \"sequential\"  # \"sequential\" or \"diagonal\"\n",
    "\n",
    "image = Image.open(imageName)"
   ]
  },
  {
   "cell_type": "code",
   "execution_count": 55,
   "metadata": {},
   "outputs": [],
   "source": [
    "# Pixelate\n",
    "outputImage = pixelize(image, blockSideSize, blockColorMethod=blockColorMethod, cornersMode=cornersMode)\n",
    "outputImage.show()"
   ]
  },
  {
   "cell_type": "code",
   "execution_count": 53,
   "metadata": {},
   "outputs": [],
   "source": [
    "# To save the output image\n",
    "# outputImage.save(\"output.png\")"
   ]
  },
  {
   "cell_type": "code",
   "execution_count": null,
   "metadata": {},
   "outputs": [],
   "source": []
  }
 ],
 "metadata": {
  "kernelspec": {
   "display_name": "Python 3",
   "language": "python",
   "name": "python3"
  },
  "language_info": {
   "codemirror_mode": {
    "name": "ipython",
    "version": 3
   },
   "file_extension": ".py",
   "mimetype": "text/x-python",
   "name": "python",
   "nbconvert_exporter": "python",
   "pygments_lexer": "ipython3",
   "version": "3.8.3"
  }
 },
 "nbformat": 4,
 "nbformat_minor": 4
}
