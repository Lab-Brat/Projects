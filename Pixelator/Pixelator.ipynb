{
 "cells": [
  {
   "cell_type": "code",
   "execution_count": 1,
   "metadata": {},
   "outputs": [],
   "source": [
    "import numpy as np\n",
    "from PIL import Image, ImageStat, ImageDraw"
   ]
  },
  {
   "cell_type": "code",
   "execution_count": null,
   "metadata": {},
   "outputs": [],
   "source": []
  },
  {
   "cell_type": "code",
   "execution_count": 2,
   "metadata": {},
   "outputs": [],
   "source": [
    "# Create a list of tuples containing blocks \n",
    "def getBlocks(image, blockSide):\n",
    "    h = 0\n",
    "    w = 0\n",
    "    corners = []  # list of (w1, h1),(w2, h2))\n",
    "    while h < image.height:\n",
    "        w = 0\n",
    "        while w < image.width:\n",
    "            w2 = w + blockSide if w + blockSide <= image.width-1 else image.width-1\n",
    "            h2 = h + blockSide if h + blockSide <= image.height-1 else image.height-1\n",
    "            corners.append(((w, h), (w2, h2)))\n",
    "            w += blockSide\n",
    "        h += blockSide\n",
    "    return corners"
   ]
  },
  {
   "cell_type": "code",
   "execution_count": null,
   "metadata": {},
   "outputs": [],
   "source": []
  },
  {
   "cell_type": "code",
   "execution_count": 3,
   "metadata": {},
   "outputs": [],
   "source": [
    "# Extract average color of the block\n",
    "def getBlockColor(image):\n",
    "    \n",
    "    pixelValue = None\n",
    "    avg = ImageStat.Stat(image).mean\n",
    "    pixelValue = tuple(map(lambda x: round(x), avg))\n",
    "\n",
    "    return pixelValue"
   ]
  },
  {
   "cell_type": "code",
   "execution_count": null,
   "metadata": {},
   "outputs": [],
   "source": []
  },
  {
   "cell_type": "code",
   "execution_count": 4,
   "metadata": {},
   "outputs": [],
   "source": [
    "# Recursively combine color-avereged blocks into a new picture\n",
    "def pixelize(image, blockSide):\n",
    "    pixelized = Image.new(image.mode, (image.width, image.height))\n",
    "    drawImage = ImageDraw.Draw(pixelized)\n",
    "\n",
    "    corners = getBlocks(image, blockSide)\n",
    "    for corner in corners:\n",
    "        topleft, bottomright = corner\n",
    "        w1, h1 = topleft\n",
    "        w2, h2 = bottomright\n",
    "\n",
    "        if w1 - w2 == 0 or h1 - h2 == 0:\n",
    "            blockColor = image.getpixel((w1, h1))\n",
    "        else:\n",
    "            block = image.crop((w1, h1, w2, h2))\n",
    "            blockColor = getBlockColor(block)\n",
    "\n",
    "        drawImage.rectangle((w1, h1, w2, h2), blockColor)\n",
    "\n",
    "    return pixelized"
   ]
  },
  {
   "cell_type": "code",
   "execution_count": null,
   "metadata": {},
   "outputs": [],
   "source": []
  },
  {
   "cell_type": "code",
   "execution_count": 5,
   "metadata": {},
   "outputs": [],
   "source": [
    "# Setting Up Path and Block Size\n",
    "imageName = r\"C:\\Users\\kulik\\Documents\\Jupyters\\Pixelator\\sample.jpg\"\n",
    "blockSideSize = 4 #1 is the original image\n",
    "\n",
    "image = Image.open(imageName)"
   ]
  },
  {
   "cell_type": "code",
   "execution_count": 6,
   "metadata": {},
   "outputs": [],
   "source": [
    "outputImage = pixelize(image, blockSideSize)\n",
    "outputImage.show()"
   ]
  },
  {
   "cell_type": "code",
   "execution_count": 7,
   "metadata": {},
   "outputs": [],
   "source": [
    "# To save the output image\n",
    "# outputImage.save(\"output.png\")"
   ]
  },
  {
   "cell_type": "code",
   "execution_count": null,
   "metadata": {},
   "outputs": [],
   "source": []
  }
 ],
 "metadata": {
  "kernelspec": {
   "display_name": "Python 3",
   "language": "python",
   "name": "python3"
  },
  "language_info": {
   "codemirror_mode": {
    "name": "ipython",
    "version": 3
   },
   "file_extension": ".py",
   "mimetype": "text/x-python",
   "name": "python",
   "nbconvert_exporter": "python",
   "pygments_lexer": "ipython3",
   "version": "3.8.3"
  }
 },
 "nbformat": 4,
 "nbformat_minor": 4
}
